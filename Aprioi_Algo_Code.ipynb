{
 "cells": [
  {
   "cell_type": "markdown",
   "metadata": {},
   "source": [
    "## Python Implementation for Apriori Algorithm"
   ]
  },
  {
   "cell_type": "code",
   "execution_count": 33,
   "metadata": {},
   "outputs": [],
   "source": [
    "import numpy as np\n",
    "import pandas as pd\n",
    "from apyori import apriori"
   ]
  },
  {
   "cell_type": "code",
   "execution_count": 35,
   "metadata": {},
   "outputs": [],
   "source": [
    "data = pd.read_csv('GroceryStoreDataSet2.csv', header = None)"
   ]
  },
  {
   "cell_type": "code",
   "execution_count": 36,
   "metadata": {},
   "outputs": [
    {
     "data": {
      "text/html": [
       "<div>\n",
       "<style scoped>\n",
       "    .dataframe tbody tr th:only-of-type {\n",
       "        vertical-align: middle;\n",
       "    }\n",
       "\n",
       "    .dataframe tbody tr th {\n",
       "        vertical-align: top;\n",
       "    }\n",
       "\n",
       "    .dataframe thead th {\n",
       "        text-align: right;\n",
       "    }\n",
       "</style>\n",
       "<table border=\"1\" class=\"dataframe\">\n",
       "  <thead>\n",
       "    <tr style=\"text-align: right;\">\n",
       "      <th></th>\n",
       "      <th>0</th>\n",
       "      <th>1</th>\n",
       "      <th>2</th>\n",
       "      <th>3</th>\n",
       "    </tr>\n",
       "  </thead>\n",
       "  <tbody>\n",
       "    <tr>\n",
       "      <th>0</th>\n",
       "      <td>MILK</td>\n",
       "      <td>BREAD</td>\n",
       "      <td>BISCUIT</td>\n",
       "      <td>NaN</td>\n",
       "    </tr>\n",
       "    <tr>\n",
       "      <th>1</th>\n",
       "      <td>BREAD</td>\n",
       "      <td>MILK</td>\n",
       "      <td>BISCUIT</td>\n",
       "      <td>CORNFLAKES</td>\n",
       "    </tr>\n",
       "    <tr>\n",
       "      <th>2</th>\n",
       "      <td>BREAD</td>\n",
       "      <td>TEA</td>\n",
       "      <td>BOURNVITA</td>\n",
       "      <td>NaN</td>\n",
       "    </tr>\n",
       "    <tr>\n",
       "      <th>3</th>\n",
       "      <td>JAM</td>\n",
       "      <td>MAGGI</td>\n",
       "      <td>BREAD</td>\n",
       "      <td>MILK</td>\n",
       "    </tr>\n",
       "    <tr>\n",
       "      <th>4</th>\n",
       "      <td>MAGGI</td>\n",
       "      <td>TEA</td>\n",
       "      <td>BISCUIT</td>\n",
       "      <td>NaN</td>\n",
       "    </tr>\n",
       "  </tbody>\n",
       "</table>\n",
       "</div>"
      ],
      "text/plain": [
       "       0      1          2           3\n",
       "0   MILK  BREAD    BISCUIT         NaN\n",
       "1  BREAD   MILK    BISCUIT  CORNFLAKES\n",
       "2  BREAD    TEA  BOURNVITA         NaN\n",
       "3    JAM  MAGGI      BREAD        MILK\n",
       "4  MAGGI    TEA    BISCUIT         NaN"
      ]
     },
     "execution_count": 36,
     "metadata": {},
     "output_type": "execute_result"
    }
   ],
   "source": [
    "data.head()"
   ]
  },
  {
   "cell_type": "code",
   "execution_count": 42,
   "metadata": {},
   "outputs": [
    {
     "name": "stdout",
     "output_type": "stream",
     "text": [
      "(20, 4)\n"
     ]
    }
   ],
   "source": [
    "dims = data.shape\n",
    "print(dims)"
   ]
  },
  {
   "cell_type": "code",
   "execution_count": 44,
   "metadata": {},
   "outputs": [],
   "source": [
    "transactions = []\n",
    "\n",
    "for i in range(0, dims[0]):\n",
    "    transactions.append([str(data.values[i,j]) for j in range(0, dims[1])])"
   ]
  },
  {
   "cell_type": "code",
   "execution_count": 60,
   "metadata": {},
   "outputs": [],
   "source": [
    "assoc_rules = apriori(transactions, min_support = 0.3, min_confidence = 0.5, min_length = 2)"
   ]
  },
  {
   "cell_type": "code",
   "execution_count": 61,
   "metadata": {},
   "outputs": [],
   "source": [
    "assoc_results = list(assoc_rules)"
   ]
  },
  {
   "cell_type": "code",
   "execution_count": 62,
   "metadata": {},
   "outputs": [
    {
     "name": "stdout",
     "output_type": "stream",
     "text": [
      "[RelationRecord(items=frozenset({'BREAD'}), support=0.65, ordered_statistics=[OrderedStatistic(items_base=frozenset(), items_add=frozenset({'BREAD'}), confidence=0.65, lift=1.0)]), RelationRecord(items=frozenset({'nan'}), support=0.65, ordered_statistics=[OrderedStatistic(items_base=frozenset(), items_add=frozenset({'nan'}), confidence=0.65, lift=1.0)]), RelationRecord(items=frozenset({'BREAD', 'nan'}), support=0.45, ordered_statistics=[OrderedStatistic(items_base=frozenset({'BREAD'}), items_add=frozenset({'nan'}), confidence=0.6923076923076923, lift=1.0650887573964496), OrderedStatistic(items_base=frozenset({'nan'}), items_add=frozenset({'BREAD'}), confidence=0.6923076923076923, lift=1.0650887573964496)]), RelationRecord(items=frozenset({'SUGER', 'nan'}), support=0.3, ordered_statistics=[OrderedStatistic(items_base=frozenset({'SUGER'}), items_add=frozenset({'nan'}), confidence=1.0, lift=1.5384615384615383)])]\n"
     ]
    }
   ],
   "source": [
    "print(assoc_results)"
   ]
  },
  {
   "cell_type": "code",
   "execution_count": 63,
   "metadata": {},
   "outputs": [
    {
     "name": "stdout",
     "output_type": "stream",
     "text": [
      "4\n"
     ]
    }
   ],
   "source": [
    "print(len(assoc_results))"
   ]
  }
 ],
 "metadata": {
  "kernelspec": {
   "display_name": "Python 3",
   "language": "python",
   "name": "python3"
  },
  "language_info": {
   "codemirror_mode": {
    "name": "ipython",
    "version": 3
   },
   "file_extension": ".py",
   "mimetype": "text/x-python",
   "name": "python",
   "nbconvert_exporter": "python",
   "pygments_lexer": "ipython3",
   "version": "3.5.2"
  }
 },
 "nbformat": 4,
 "nbformat_minor": 2
}
